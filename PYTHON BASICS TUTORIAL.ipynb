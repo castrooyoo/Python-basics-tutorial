{
  "nbformat": 4,
  "nbformat_minor": 0,
  "metadata": {
    "kernelspec": {
      "display_name": "Python 3",
      "language": "python",
      "name": "python3"
    },
    "language_info": {
      "codemirror_mode": {
        "name": "ipython",
        "version": 3
      },
      "file_extension": ".py",
      "mimetype": "text/x-python",
      "name": "python",
      "nbconvert_exporter": "python",
      "pygments_lexer": "ipython3",
      "version": "3.7.3"
    },
    "colab": {
      "name": "BASICS.ipynb",
      "provenance": [],
      "include_colab_link": true
    }
  },
  "cells": [
    {
      "cell_type": "markdown",
      "metadata": {
        "id": "view-in-github",
        "colab_type": "text"
      },
      "source": [
        "<a href=\"https://colab.research.google.com/github/castrooyoo/Data-analysis/blob/master/BASICS.ipynb\" target=\"_parent\"><img src=\"https://colab.research.google.com/assets/colab-badge.svg\" alt=\"Open In Colab\"/></a>"
      ]
    },
    {
      "cell_type": "markdown",
      "metadata": {
        "id": "OSyLXF0ZFhP6",
        "colab_type": "text"
      },
      "source": [
        "### DATA TYPES\n",
        "###### - Lists\n",
        "###### - tuples\n",
        "###### - dictionaries\n",
        "###### - string\n",
        "###### - numbers"
      ]
    },
    {
      "cell_type": "markdown",
      "metadata": {
        "id": "-TUpSrLJFhQM",
        "colab_type": "text"
      },
      "source": [
        "### string"
      ]
    },
    {
      "cell_type": "markdown",
      "metadata": {
        "id": "MQOJm_4mFhQT",
        "colab_type": "text"
      },
      "source": [
        "##### Assigning a string to a variable is done with the variable name followed by an equal sign \n",
        "##### and the string:"
      ]
    },
    {
      "cell_type": "code",
      "metadata": {
        "id": "WJdsC5JoFhQZ",
        "colab_type": "code",
        "colab": {}
      },
      "source": [
        "a = \"Hello\"\n",
        "print(a)"
      ],
      "execution_count": 0,
      "outputs": []
    },
    {
      "cell_type": "code",
      "metadata": {
        "id": "PLfEEvMhFhQx",
        "colab_type": "code",
        "colab": {}
      },
      "source": [
        "### for the case of multilines(paragraghs) we use three quotes\n",
        "a = \"\"\"Data Science is the best thing,\n",
        "Soon Quantum computing AI will come to reality,\n",
        "This would make our lives simple. \n",
        "\"\"\"\n",
        "print(a)"
      ],
      "execution_count": 0,
      "outputs": []
    },
    {
      "cell_type": "markdown",
      "metadata": {
        "id": "LljUFJ_yFhRC",
        "colab_type": "text"
      },
      "source": [
        "#### single character is simply a string with a length of 1\n",
        "#### Square brackets can be used to access elements of the string"
      ]
    },
    {
      "cell_type": "code",
      "metadata": {
        "id": "p47ke075FhRH",
        "colab_type": "code",
        "colab": {}
      },
      "source": [
        "# Get the character at position 1 (remember that the first character has the position 0):\n",
        "a = \"Hello, World!\"\n",
        "print(a[1])"
      ],
      "execution_count": 0,
      "outputs": []
    },
    {
      "cell_type": "code",
      "metadata": {
        "id": "KkAgbw4jFhRX",
        "colab_type": "code",
        "colab": {}
      },
      "source": [
        "# Get the characters from position 2 to position 5 (not included):\n",
        "b = \"Hello, World!\"\n",
        "print(b[2:5])"
      ],
      "execution_count": 0,
      "outputs": []
    },
    {
      "cell_type": "code",
      "metadata": {
        "id": "1pRVwvn-FhRm",
        "colab_type": "code",
        "colab": {}
      },
      "source": [
        "# Negative Indexing\n",
        "# Get the characters from position 5 to position 1, starting the count from the end of the string:\n",
        "b = \"Hello, World!\"\n",
        "print(b[-5:-2])"
      ],
      "execution_count": 0,
      "outputs": []
    },
    {
      "cell_type": "code",
      "metadata": {
        "id": "j-bJxRM_FhR3",
        "colab_type": "code",
        "colab": {}
      },
      "source": [
        "# To get the length of a string, use the len() function\n",
        "a = \"Hello, World!\"\n",
        "print(len(a))"
      ],
      "execution_count": 0,
      "outputs": []
    },
    {
      "cell_type": "markdown",
      "metadata": {
        "id": "PxRuk1CHFhSG",
        "colab_type": "text"
      },
      "source": [
        "#### String Methods"
      ]
    },
    {
      "cell_type": "code",
      "metadata": {
        "id": "EXRzoRKuFhSL",
        "colab_type": "code",
        "colab": {}
      },
      "source": [
        "# Strip method removes white spaces from the beginning or the end of string\n",
        "a = \" Hello, World! \"\n",
        "print(a.strip()) # returns \"Hello, World!\""
      ],
      "execution_count": 0,
      "outputs": []
    },
    {
      "cell_type": "code",
      "metadata": {
        "id": "uvttoC2_FhSZ",
        "colab_type": "code",
        "colab": {}
      },
      "source": [
        "# Converting the string to lower case, upper case,capitalize the First character or caps the first letter in each word\n",
        "import string\n",
        "a = \"Hello, World!\"\n",
        "print(a.lower())\n",
        "print(a.upper())\n",
        "print(a.capitalize())\n",
        "print(string.capwords(a))"
      ],
      "execution_count": 0,
      "outputs": []
    },
    {
      "cell_type": "code",
      "metadata": {
        "id": "sr9jaU3HFhSo",
        "colab_type": "code",
        "colab": {}
      },
      "source": [
        "# Replace method \n",
        "a = \"Hello, World!\"\n",
        "print(a.replace('H','J'))"
      ],
      "execution_count": 0,
      "outputs": []
    },
    {
      "cell_type": "code",
      "metadata": {
        "id": "5-Q66TIiFhS7",
        "colab_type": "code",
        "colab": {}
      },
      "source": [
        "# split method \n",
        "a = \"Hello, World!\"\n",
        "print(a.split(','))"
      ],
      "execution_count": 0,
      "outputs": []
    },
    {
      "cell_type": "code",
      "metadata": {
        "id": "ZuW_8gFgFhTS",
        "colab_type": "code",
        "colab": {}
      },
      "source": [
        "# Check String\n",
        "txt = \"The rain in Spain stays mainly in the plain\"\n",
        "x = \"rain\" in txt\n",
        "print(x)"
      ],
      "execution_count": 0,
      "outputs": []
    },
    {
      "cell_type": "code",
      "metadata": {
        "id": "uqgxW0M3FhTi",
        "colab_type": "code",
        "colab": {}
      },
      "source": [
        "# Check not String\n",
        "txt = \"The rain in Spain stays mainly in the plain\"\n",
        "x = \"rain\" not in txt\n",
        "print(x)"
      ],
      "execution_count": 0,
      "outputs": []
    },
    {
      "cell_type": "code",
      "metadata": {
        "id": "s8u0tkV2FhT4",
        "colab_type": "code",
        "colab": {}
      },
      "source": [
        "# String Concatenation\n",
        "# Merge variable a with variable b into variable c\n",
        "a = \"Hello\"\n",
        "b = \"World\"\n",
        "c = a + b\n",
        "d = a + \" \" + b\n",
        "print(c)\n",
        "print(d)"
      ],
      "execution_count": 0,
      "outputs": []
    },
    {
      "cell_type": "markdown",
      "metadata": {
        "id": "RNQSKdSwFhUJ",
        "colab_type": "text"
      },
      "source": [
        "### String Format"
      ]
    },
    {
      "cell_type": "code",
      "metadata": {
        "id": "pIWnWK3wFhUO",
        "colab_type": "code",
        "colab": {}
      },
      "source": [
        "age = 36\n",
        "# txt = \"My name is John, I am \" + age\n",
        "# print(txt)"
      ],
      "execution_count": 0,
      "outputs": []
    },
    {
      "cell_type": "code",
      "metadata": {
        "id": "IELLGbiEFhUs",
        "colab_type": "code",
        "colab": {}
      },
      "source": [
        "text = \"My name is John, I am  {}\".format(age)\n",
        "txt = f\"My name is John, I am  {age}\"\n",
        "print(txt)\n",
        "print(text)"
      ],
      "execution_count": 0,
      "outputs": []
    },
    {
      "cell_type": "code",
      "metadata": {
        "id": "t8gm4wLQFhU-",
        "colab_type": "code",
        "colab": {}
      },
      "source": [
        "quantity = 3\n",
        "itemno = 567\n",
        "price = 49.95\n",
        "myorder = f\"I want {quantity} pieces of item {itemno} for {price} dollars.\"\n",
        "print(myorder)"
      ],
      "execution_count": 0,
      "outputs": []
    },
    {
      "cell_type": "markdown",
      "metadata": {
        "id": "letLmQvOFhVU",
        "colab_type": "text"
      },
      "source": [
        "### numbers"
      ]
    },
    {
      "cell_type": "code",
      "metadata": {
        "id": "Jb0s_hFoFhVc",
        "colab_type": "code",
        "colab": {}
      },
      "source": [
        "# there are three numeric types\n",
        "x = 1    # int\n",
        "y = 2.8  # float\n",
        "z = 1j   # complex\n",
        "print(type(x))\n",
        "print(type(y))\n",
        "print(type(z))"
      ],
      "execution_count": 0,
      "outputs": []
    },
    {
      "cell_type": "markdown",
      "metadata": {
        "id": "Iq_8tL55FhV2",
        "colab_type": "text"
      },
      "source": [
        "##### Type Conversion"
      ]
    },
    {
      "cell_type": "code",
      "metadata": {
        "id": "gpZzDI4-FhV7",
        "colab_type": "code",
        "colab": {}
      },
      "source": [
        "x = 1 # int\n",
        "y = 2.8 # float\n",
        "z = 1j # complex\n",
        "\n",
        "#convert from int to float:\n",
        "a = float(x)\n",
        "\n",
        "#convert from float to int:\n",
        "b = int(y)\n",
        "\n",
        "#convert from int to complex:\n",
        "c = complex(x)\n",
        "\n",
        "print(a)\n",
        "print(b)\n",
        "print(c)"
      ],
      "execution_count": 0,
      "outputs": []
    },
    {
      "cell_type": "code",
      "metadata": {
        "id": "pi5yVSeVFhW9",
        "colab_type": "code",
        "colab": {}
      },
      "source": [
        "# Import the random module, and display a random number between 1 and 9:\n",
        "import random\n",
        "print(random.randrange(1,10))"
      ],
      "execution_count": 0,
      "outputs": []
    },
    {
      "cell_type": "markdown",
      "metadata": {
        "id": "AMe_POcaFhXh",
        "colab_type": "text"
      },
      "source": [
        "### Operations"
      ]
    },
    {
      "cell_type": "code",
      "metadata": {
        "id": "bp_UiWVVFhXo",
        "colab_type": "code",
        "colab": {}
      },
      "source": [
        "x + y #Addition\n",
        "x - y #subtraction\n",
        "x * y #multiplication\n",
        "x / y #Division\n",
        "x**y #exponential\n",
        "x//y ##floor ...the floor division // rounds the result down to the nearest whole number\n",
        "\n",
        "# comparison\n",
        "x == y #equal\n",
        "x != y #not equal\n",
        "> #greater\n",
        "< #less than\n",
        ">= #greater or equal to\n",
        "<= #less or equal to\n",
        "\n",
        "#and, or,\n",
        "x = 5\n",
        "print(x > 3 and x < 10)\n",
        "# returns True because 5 is greater than 3 AND 5 is less than 10\n"
      ],
      "execution_count": 0,
      "outputs": []
    },
    {
      "cell_type": "markdown",
      "metadata": {
        "id": "Pbl426dkFhX_",
        "colab_type": "text"
      },
      "source": [
        "### Lists"
      ]
    },
    {
      "cell_type": "code",
      "metadata": {
        "id": "lOzYSBnIFhYF",
        "colab_type": "code",
        "colab": {}
      },
      "source": [
        "# A list is a collection which is ordered and changeable. In Python lists are written with square brackets\n",
        "thislist = [\"apple\", \"banana\", \"cherry\"]\n",
        "print(thislist)"
      ],
      "execution_count": 0,
      "outputs": []
    },
    {
      "cell_type": "code",
      "metadata": {
        "id": "1PGfitGzFhYZ",
        "colab_type": "code",
        "colab": {}
      },
      "source": [
        "# access items\n",
        "thislist = [\"apple\", \"banana\", \"cherry\"]\n",
        "print(thislist[1])"
      ],
      "execution_count": 0,
      "outputs": []
    },
    {
      "cell_type": "code",
      "metadata": {
        "id": "XSuADQoCFhYz",
        "colab_type": "code",
        "colab": {}
      },
      "source": [
        "#adding items to a list\n",
        "thislist = [\"apple\", \"banana\", \"cherry\"]\n",
        "thislist.append(\"ovacado\") #inserts at the end of the list also extend() and loop\n",
        "print(thislist)\n",
        "thislist.insert(1,'potato') #inserting at a given position\n",
        "print(thislist)\n",
        "thislist.remove(\"banana\")\n",
        "print(thislist)"
      ],
      "execution_count": 0,
      "outputs": []
    },
    {
      "cell_type": "code",
      "metadata": {
        "id": "3XWoWgDOFhZE",
        "colab_type": "code",
        "colab": {}
      },
      "source": [
        "#range\n",
        "thislist =[\"apple\", \"banana\", \"cherry\", \"orange\", \"kiwi\", \"melon\", \"mango\"]\n",
        "print(thislist[2:5])\n",
        "print(len(thislist))"
      ],
      "execution_count": 0,
      "outputs": []
    },
    {
      "cell_type": "markdown",
      "metadata": {
        "id": "JtV9chAnFhZS",
        "colab_type": "text"
      },
      "source": [
        "### tuples"
      ]
    },
    {
      "cell_type": "code",
      "metadata": {
        "id": "dR5-3NCKFhZi",
        "colab_type": "code",
        "colab": {}
      },
      "source": [
        "# A tuple is a collection which is ordered and unchangeable. In Python tuples are written with round brackets.\n",
        "thistuple = (\"apple\", \"banana\", \"cherry\")\n",
        "print(thistuple)"
      ],
      "execution_count": 0,
      "outputs": []
    },
    {
      "cell_type": "code",
      "metadata": {
        "id": "Kzw6E9YtFhZy",
        "colab_type": "code",
        "colab": {}
      },
      "source": [
        "print(thistuple[1])"
      ],
      "execution_count": 0,
      "outputs": []
    },
    {
      "cell_type": "code",
      "metadata": {
        "id": "JrvjmAv7FhaA",
        "colab_type": "code",
        "colab": {}
      },
      "source": [
        "thistuple = (\"apple\", \"banana\", \"cherry\")\n",
        "if \"apple\" in thistuple:\n",
        "  print(\"Yes, 'apple' is in the fruits tuple\")"
      ],
      "execution_count": 0,
      "outputs": []
    },
    {
      "cell_type": "markdown",
      "metadata": {
        "id": "QxrKYadMFhaY",
        "colab_type": "text"
      },
      "source": [
        "#### once tuple is created you cannot add items to it (unchangeable)"
      ]
    },
    {
      "cell_type": "markdown",
      "metadata": {
        "id": "WdzEkyMmFhad",
        "colab_type": "text"
      },
      "source": [
        "### sets"
      ]
    },
    {
      "cell_type": "code",
      "metadata": {
        "id": "MQHAyIgJFham",
        "colab_type": "code",
        "colab": {},
        "outputId": "c35c621d-224b-4be3-ca93-6ff37b2b6e1a"
      },
      "source": [
        "# A set is a collection which is unordered and unindexed. In Python sets are written with curly brackets.\n",
        "thisset = {\"apple\", \"banana\", \"cherry\"}\n",
        "print(thisset)"
      ],
      "execution_count": 0,
      "outputs": [
        {
          "output_type": "stream",
          "text": [
            "{'banana', 'cherry', 'apple'}\n"
          ],
          "name": "stdout"
        }
      ]
    },
    {
      "cell_type": "markdown",
      "metadata": {
        "id": "Oziw-lAaFhbL",
        "colab_type": "text"
      },
      "source": [
        "#### You cannot access items in a set by referring to an index, since sets are unordered the items has no index."
      ]
    },
    {
      "cell_type": "markdown",
      "metadata": {
        "id": "gOWTFuP2Fhbc",
        "colab_type": "text"
      },
      "source": [
        "### dictionaries"
      ]
    },
    {
      "cell_type": "code",
      "metadata": {
        "id": "jUlk9H17Fhbq",
        "colab_type": "code",
        "colab": {},
        "outputId": "450cf7e3-44e2-419d-a9e0-22a333371d4f"
      },
      "source": [
        "# A dictionary is a collection which is unordered, changeable and indexed. In Python dictionaries are written with curly brackets, and they have keys and values.\n",
        "thisdict = {\n",
        "  \"brand\": \"Ford\",\n",
        "  \"model\": \"Mustang\",\n",
        "  \"year\": 1964\n",
        "}\n",
        "print(thisdict)\n",
        "print(thisdict[\"model\"])\n",
        "print(thisdict.get(\"year\"))"
      ],
      "execution_count": 0,
      "outputs": [
        {
          "output_type": "stream",
          "text": [
            "{'brand': 'Ford', 'model': 'Mustang', 'year': 1964}\n",
            "Mustang\n",
            "1964\n"
          ],
          "name": "stdout"
        }
      ]
    },
    {
      "cell_type": "code",
      "metadata": {
        "id": "QFchTLMZFhb6",
        "colab_type": "code",
        "colab": {},
        "outputId": "9073b7f5-3adc-490a-9450-0fd893eaf93e"
      },
      "source": [
        "# Change values\n",
        "thisdict[\"year\"] = 2018\n",
        "print(thisdict)"
      ],
      "execution_count": 0,
      "outputs": [
        {
          "output_type": "stream",
          "text": [
            "{'brand': 'Ford', 'model': 'Mustang', 'year': 2018}\n"
          ],
          "name": "stdout"
        }
      ]
    },
    {
      "cell_type": "markdown",
      "metadata": {
        "id": "HsEA3tpUFhcH",
        "colab_type": "text"
      },
      "source": [
        "## Conditions"
      ]
    },
    {
      "cell_type": "markdown",
      "metadata": {
        "id": "RLzmZuF1FhcL",
        "colab_type": "text"
      },
      "source": [
        "### if....Else "
      ]
    },
    {
      "cell_type": "code",
      "metadata": {
        "id": "nzomyh0fFhcP",
        "colab_type": "code",
        "colab": {}
      },
      "source": [
        "#Equals: a == b\n",
        "#Not Equals: a != b\n",
        "#Less than: a < b\n",
        "#Less than or equal to: a <= b\n",
        "#Greater than: a > b\n",
        "#Greater than or equal to: a >= b"
      ],
      "execution_count": 0,
      "outputs": []
    },
    {
      "cell_type": "code",
      "metadata": {
        "id": "hlLMjmnaFhcf",
        "colab_type": "code",
        "colab": {},
        "outputId": "35b73dcc-421e-42a4-b48f-252b6a3c44b0"
      },
      "source": [
        "a = 33\n",
        "b = 33\n",
        "if b > a:\n",
        "    print(\"b is greater than a\")\n",
        "elif a == b:\n",
        "    print(\"a and b are equal\")"
      ],
      "execution_count": 0,
      "outputs": [
        {
          "output_type": "stream",
          "text": [
            "a and b are equal\n"
          ],
          "name": "stdout"
        }
      ]
    },
    {
      "cell_type": "code",
      "metadata": {
        "id": "YXYhHdUWFhcs",
        "colab_type": "code",
        "colab": {}
      },
      "source": [
        "#In this example a is equal to b, so the first condition is not true, but the elif condition is true, so we print to screen that \"a and b are equal\"."
      ],
      "execution_count": 0,
      "outputs": []
    },
    {
      "cell_type": "markdown",
      "metadata": {
        "id": "piG6VjYiFhc4",
        "colab_type": "text"
      },
      "source": [
        "### Else"
      ]
    },
    {
      "cell_type": "code",
      "metadata": {
        "id": "KTSdSZ-NFhc7",
        "colab_type": "code",
        "colab": {},
        "outputId": "95e40ef6-a8d0-4c84-da20-3b39e612ec89"
      },
      "source": [
        "# The else keyword catches anything which isn't caught by the preceding conditions.\n",
        "a = 200\n",
        "b = 33\n",
        "if b > a:\n",
        "    print(\"b is greater than a\")\n",
        "elif a == b:\n",
        "    print(\"a and b are equal\")\n",
        "else:\n",
        "    print(\"a is greater than b\")"
      ],
      "execution_count": 0,
      "outputs": [
        {
          "output_type": "stream",
          "text": [
            "a is greater than b\n"
          ],
          "name": "stdout"
        }
      ]
    },
    {
      "cell_type": "code",
      "metadata": {
        "id": "MisFjFP6FhdH",
        "colab_type": "code",
        "colab": {}
      },
      "source": [
        "#In this example a is greater than b, so the first condition is not true, also the elif condition is not true, so we go to the else condition and print to screen that \"a is greater than b\"."
      ],
      "execution_count": 0,
      "outputs": []
    },
    {
      "cell_type": "code",
      "metadata": {
        "id": "tsAhZe4GFhdU",
        "colab_type": "code",
        "colab": {},
        "outputId": "78689133-98d5-4cbe-d6b3-b07842e4917b"
      },
      "source": [
        "if a > b: print(\"a is greater than b\") # in one statement"
      ],
      "execution_count": 0,
      "outputs": [
        {
          "output_type": "stream",
          "text": [
            "a is greater than b\n"
          ],
          "name": "stdout"
        }
      ]
    },
    {
      "cell_type": "code",
      "metadata": {
        "id": "2sD4MHzDFhdl",
        "colab_type": "code",
        "colab": {},
        "outputId": "eb8dab8c-a8a5-46a2-9479-0ac2db80b2c7"
      },
      "source": [
        "a = 2\n",
        "b = 330\n",
        "print(\"A\") if a > b else print(\"B\")\n",
        "# If you have only one statement to execute, one for if, and one for else, you can put it all on the same line:"
      ],
      "execution_count": 0,
      "outputs": [
        {
          "output_type": "stream",
          "text": [
            "B\n"
          ],
          "name": "stdout"
        }
      ]
    },
    {
      "cell_type": "code",
      "metadata": {
        "id": "6Kmth58EFhdx",
        "colab_type": "code",
        "colab": {},
        "outputId": "15339529-63a0-4d89-c54b-71aa035d53eb"
      },
      "source": [
        "a = 330\n",
        "b = 330\n",
        "print(\"A\") if a > b else print(\"=\") if a == b else print(\"B\")"
      ],
      "execution_count": 0,
      "outputs": [
        {
          "output_type": "stream",
          "text": [
            "=\n"
          ],
          "name": "stdout"
        }
      ]
    },
    {
      "cell_type": "code",
      "metadata": {
        "id": "8MKb8eMeFheD",
        "colab_type": "code",
        "colab": {},
        "outputId": "248b37d1-68f3-4409-8e11-d26257787778"
      },
      "source": [
        "a = 200\n",
        "b = 33\n",
        "c = 500\n",
        "if a > b and c > a:\n",
        "    print(\"Both conditions are True\")"
      ],
      "execution_count": 0,
      "outputs": [
        {
          "output_type": "stream",
          "text": [
            "Both conditions are True\n"
          ],
          "name": "stdout"
        }
      ]
    },
    {
      "cell_type": "code",
      "metadata": {
        "id": "S1sFdgRRFheW",
        "colab_type": "code",
        "colab": {},
        "outputId": "4df8e8f2-1e4a-4947-f048-72c37f33f05c"
      },
      "source": [
        "a = 200\n",
        "b = 33\n",
        "c = 500\n",
        "if a > b or a > c:\n",
        "    print(\"At least one of the conditions is True\")"
      ],
      "execution_count": 0,
      "outputs": [
        {
          "output_type": "stream",
          "text": [
            "At least one of the conditions is True\n"
          ],
          "name": "stdout"
        }
      ]
    },
    {
      "cell_type": "code",
      "metadata": {
        "id": "4kpn0FvnFhe-",
        "colab_type": "code",
        "colab": {}
      },
      "source": [
        "# Nested If\n",
        "# You can have if statements inside if statements, this is called nested if statements."
      ],
      "execution_count": 0,
      "outputs": []
    },
    {
      "cell_type": "code",
      "metadata": {
        "id": "3ylD2sdGFhfI",
        "colab_type": "code",
        "colab": {}
      },
      "source": [
        "x = 41\n",
        "if x > 10:\n",
        "    print(\"Above ten,\")\n",
        "    if x > 20:\n",
        "        print(\"and also above 20!\")\n",
        "    else:\n",
        "        print(\"but not above 20.\")"
      ],
      "execution_count": 0,
      "outputs": []
    },
    {
      "cell_type": "markdown",
      "metadata": {
        "id": "GY7rVbDMFhfh",
        "colab_type": "text"
      },
      "source": [
        "### while loop"
      ]
    },
    {
      "cell_type": "code",
      "metadata": {
        "id": "iRkRZ3kcFhfj",
        "colab_type": "code",
        "colab": {},
        "outputId": "3a845986-64c8-4226-f812-ba378dc9c05b"
      },
      "source": [
        "# With the while loop we can execute a set of statements as long as a condition is true.\n",
        "i = 1\n",
        "while i < 6:\n",
        "    print(i)\n",
        "    i += 1"
      ],
      "execution_count": 0,
      "outputs": [
        {
          "output_type": "stream",
          "text": [
            "1\n",
            "2\n",
            "3\n",
            "4\n",
            "5\n"
          ],
          "name": "stdout"
        }
      ]
    },
    {
      "cell_type": "markdown",
      "metadata": {
        "id": "ZhZpda92Fhf5",
        "colab_type": "text"
      },
      "source": [
        "### The break Statement\n",
        "#### With the break statement we can stop the loop even if the while condition is true:"
      ]
    },
    {
      "cell_type": "code",
      "metadata": {
        "id": "7HEZNqu9Fhf8",
        "colab_type": "code",
        "colab": {},
        "outputId": "f56ef36f-c96c-4475-9d05-f68cb166e2e5"
      },
      "source": [
        "i = 1\n",
        "while i < 6:\n",
        "    print(i)\n",
        "    if i == 3:\n",
        "        break\n",
        "    i += 1"
      ],
      "execution_count": 0,
      "outputs": [
        {
          "output_type": "stream",
          "text": [
            "1\n",
            "2\n",
            "3\n"
          ],
          "name": "stdout"
        }
      ]
    },
    {
      "cell_type": "markdown",
      "metadata": {
        "id": "Jglj-iDDFhgG",
        "colab_type": "text"
      },
      "source": [
        "### The continue Statement\n",
        "#### With the continue statement we can stop the current iteration, and continue with the next:"
      ]
    },
    {
      "cell_type": "code",
      "metadata": {
        "id": "rKYpyuNYFhgJ",
        "colab_type": "code",
        "colab": {},
        "outputId": "b51016ad-9e40-44eb-b53e-8dcc2693c476"
      },
      "source": [
        "i = 0\n",
        "while i < 6:\n",
        "    i += 1\n",
        "    if i == 3:\n",
        "        continue\n",
        "    print(i)"
      ],
      "execution_count": 0,
      "outputs": [
        {
          "output_type": "stream",
          "text": [
            "1\n",
            "2\n",
            "4\n",
            "5\n",
            "6\n"
          ],
          "name": "stdout"
        }
      ]
    },
    {
      "cell_type": "code",
      "metadata": {
        "id": "4g5QNExDFhgS",
        "colab_type": "code",
        "colab": {}
      },
      "source": [
        "i = 1\n",
        "while i < 6:\n",
        "    print(i)\n",
        "    i += 1\n",
        "else:\n",
        "    print(\"i is no longer less than 6\")"
      ],
      "execution_count": 0,
      "outputs": []
    },
    {
      "cell_type": "markdown",
      "metadata": {
        "id": "7-xvbFaeFhgc",
        "colab_type": "text"
      },
      "source": [
        "### For Loop"
      ]
    },
    {
      "cell_type": "code",
      "metadata": {
        "id": "GGaPu6nKFhgj",
        "colab_type": "code",
        "colab": {}
      },
      "source": [
        "# A for loop is used for iterating over a sequence (that is either a list, a tuple, a dictionary, a set, or a string)"
      ],
      "execution_count": 0,
      "outputs": []
    },
    {
      "cell_type": "code",
      "metadata": {
        "id": "t9sSUbPpFhgv",
        "colab_type": "code",
        "colab": {}
      },
      "source": [
        "#Print each fruit in a fruit list:\n",
        "fruits = [\"apple\", \"banana\", \"cherry\"]\n",
        "for x in fruits:\n",
        "    print(x)"
      ],
      "execution_count": 0,
      "outputs": []
    },
    {
      "cell_type": "code",
      "metadata": {
        "id": "cOvZGMniFhg6",
        "colab_type": "code",
        "colab": {},
        "outputId": "e210288a-8171-45db-eb3e-76d6ca61b40f"
      },
      "source": [
        "#looping through string\n",
        "for x in \"banana\":\n",
        "      print(x)"
      ],
      "execution_count": 0,
      "outputs": [
        {
          "output_type": "stream",
          "text": [
            "b\n",
            "a\n",
            "n\n",
            "a\n",
            "n\n",
            "a\n"
          ],
          "name": "stdout"
        }
      ]
    },
    {
      "cell_type": "code",
      "metadata": {
        "id": "YOkRRtokFhhM",
        "colab_type": "code",
        "colab": {}
      },
      "source": [
        "# using break statement in for loop such that it stops when x is banana\n",
        "fruits = [\"apple\", \"banana\", \"cherry\"]\n",
        "for x in fruits:\n",
        "    print(x) \n",
        "    if x == \"banana\":\n",
        "        break"
      ],
      "execution_count": 0,
      "outputs": []
    },
    {
      "cell_type": "code",
      "metadata": {
        "id": "99IkJ9xqFhhV",
        "colab_type": "code",
        "colab": {},
        "outputId": "816b680c-f7a0-4f90-a367-a07735ed8150"
      },
      "source": [
        "fruits = [\"apple\", \"banana\", \"cherry\"]\n",
        "for x in fruits:\n",
        "    if x == \"banana\":\n",
        "        continue\n",
        "    print(x)"
      ],
      "execution_count": 0,
      "outputs": [
        {
          "output_type": "stream",
          "text": [
            "apple\n",
            "cherry\n"
          ],
          "name": "stdout"
        }
      ]
    },
    {
      "cell_type": "code",
      "metadata": {
        "id": "YRdCueeCFhhe",
        "colab_type": "code",
        "colab": {},
        "outputId": "3c682cc1-90e8-4c2b-adfb-1cf28af64e9b"
      },
      "source": [
        "#Using the range() function\n",
        "for x in range(6):\n",
        "    print(x)"
      ],
      "execution_count": 0,
      "outputs": [
        {
          "output_type": "stream",
          "text": [
            "0\n",
            "1\n",
            "2\n",
            "3\n",
            "4\n",
            "5\n"
          ],
          "name": "stdout"
        }
      ]
    },
    {
      "cell_type": "code",
      "metadata": {
        "id": "9uyiOuatFhhn",
        "colab_type": "code",
        "colab": {},
        "outputId": "0f7af3f9-9f57-4b2e-b895-858a93404a29"
      },
      "source": [
        "for x in range(2, 6):\n",
        "    print(x)"
      ],
      "execution_count": 0,
      "outputs": [
        {
          "output_type": "stream",
          "text": [
            "2\n",
            "3\n",
            "4\n",
            "5\n"
          ],
          "name": "stdout"
        }
      ]
    },
    {
      "cell_type": "code",
      "metadata": {
        "id": "6_L8ifvCFhhw",
        "colab_type": "code",
        "colab": {},
        "outputId": "361eeddb-680b-44c1-87d6-a282737c45d1"
      },
      "source": [
        "for x in range(2, 30, 3):\n",
        "    print(x)"
      ],
      "execution_count": 0,
      "outputs": [
        {
          "output_type": "stream",
          "text": [
            "2\n",
            "5\n",
            "8\n",
            "11\n",
            "14\n",
            "17\n",
            "20\n",
            "23\n",
            "26\n",
            "29\n"
          ],
          "name": "stdout"
        }
      ]
    },
    {
      "cell_type": "code",
      "metadata": {
        "id": "SpRn2BxnFhh5",
        "colab_type": "code",
        "colab": {},
        "outputId": "49b8e293-8774-4d25-a483-2137d397f13b"
      },
      "source": [
        "#Nested For Loops\n",
        "adj = [\"red\", \"big\", \"tasty\"]\n",
        "fruits = [\"apple\", \"banana\", \"cherry\"]\n",
        "\n",
        "for x in adj:\n",
        "    for y in fruits:\n",
        "        print(x, y)"
      ],
      "execution_count": 0,
      "outputs": [
        {
          "output_type": "stream",
          "text": [
            "red apple\n",
            "red banana\n",
            "red cherry\n",
            "big apple\n",
            "big banana\n",
            "big cherry\n",
            "tasty apple\n",
            "tasty banana\n",
            "tasty cherry\n"
          ],
          "name": "stdout"
        }
      ]
    },
    {
      "cell_type": "markdown",
      "metadata": {
        "id": "Sz71tlqmFhiU",
        "colab_type": "text"
      },
      "source": [
        "### error exception"
      ]
    },
    {
      "cell_type": "markdown",
      "metadata": {
        "id": "A3EkSK4RFhiX",
        "colab_type": "text"
      },
      "source": [
        "##### - ZeroDivisionError - occurs 1/0\n",
        "##### - TypeError - mispelling\n",
        "##### - NameError - name not defined\n",
        "##### -ValueError - inputing a wrong format besides the designed one"
      ]
    },
    {
      "cell_type": "code",
      "metadata": {
        "id": "XIfXK5XrFhia",
        "colab_type": "code",
        "colab": {},
        "outputId": "7bb7c7a7-d328-4f12-deac-48035d2af05e"
      },
      "source": [
        "x=1\n",
        "y=0\n",
        "try:\n",
        "   print(x/y)\n",
        "except ZeroDivisionError:\n",
        "    print('it is not divisible')"
      ],
      "execution_count": 0,
      "outputs": [
        {
          "output_type": "stream",
          "text": [
            "it is not divisible\n"
          ],
          "name": "stdout"
        }
      ]
    },
    {
      "cell_type": "markdown",
      "metadata": {
        "id": "wLVLw_3pFhil",
        "colab_type": "text"
      },
      "source": [
        "### Applicationin building a simple calculator"
      ]
    },
    {
      "cell_type": "markdown",
      "metadata": {
        "id": "i50Ydz4nFhio",
        "colab_type": "text"
      },
      "source": [
        "### Project 1"
      ]
    },
    {
      "cell_type": "markdown",
      "metadata": {
        "id": "i0giW6EIFhir",
        "colab_type": "text"
      },
      "source": [
        "###### we have been tasked to build a calculator "
      ]
    },
    {
      "cell_type": "code",
      "metadata": {
        "id": "t7RRbuJnFhiv",
        "colab_type": "code",
        "colab": {},
        "outputId": "36fa5e02-5967-40ba-99ba-2d52d2d0899e"
      },
      "source": [
        "# we start by input what to be calculated\n",
        "number_1 = input('Enter your first number: ')\n",
        "number_2 = input('Enter your second number: ')"
      ],
      "execution_count": 0,
      "outputs": [
        {
          "output_type": "stream",
          "text": [
            "Enter your first number:  1\n",
            "Enter your second number:  2\n"
          ],
          "name": "stdin"
        }
      ]
    },
    {
      "cell_type": "code",
      "metadata": {
        "id": "kpY28fILFhi5",
        "colab_type": "code",
        "colab": {},
        "outputId": "b78526f3-7ae8-401c-f6f9-262ab5be5edb"
      },
      "source": [
        "# we have to restrict how we want the user to input...that is we want to work with integers strictly\n",
        "number_1 = int(input('Enter your first number: '))\n",
        "number_2 = int(input('Enter your second number: '))"
      ],
      "execution_count": 0,
      "outputs": [
        {
          "output_type": "stream",
          "text": [
            "Enter your first number:  1\n",
            "Enter your second number:  2\n"
          ],
          "name": "stdin"
        }
      ]
    },
    {
      "cell_type": "code",
      "metadata": {
        "id": "4Umsh-GZFhjC",
        "colab_type": "code",
        "colab": {},
        "outputId": "8ee5a0bb-3f23-45e4-c8c6-4dd0db1783e7"
      },
      "source": [
        "number_1 = int(input('Enter your first number: '))\n",
        "number_2 = int(input('Enter your second number: '))\n",
        "\n",
        "### lets perform one calculation using addition operator\n",
        "print('{} + {} = '.format(number_1, number_2)) # to make it a string\n",
        "print(number_1 + number_2) #outputs the sum of the two numbers"
      ],
      "execution_count": 0,
      "outputs": [
        {
          "output_type": "stream",
          "text": [
            "Enter your first number:  1\n",
            "Enter your second number:  2\n"
          ],
          "name": "stdin"
        },
        {
          "output_type": "stream",
          "text": [
            "1 + 2 = \n",
            "3\n"
          ],
          "name": "stdout"
        }
      ]
    },
    {
      "cell_type": "code",
      "metadata": {
        "id": "eBaaIfMPFhjM",
        "colab_type": "code",
        "colab": {},
        "outputId": "01eddedc-872c-4cb1-9f09-4cebaeaea250"
      },
      "source": [
        "number_1 = int(input('Enter your first number: '))\n",
        "number_2 = int(input('Enter your second number: '))\n",
        "\n",
        "# Addition\n",
        "print('{} + {} = '.format(number_1, number_2))\n",
        "print(number_1 + number_2)\n",
        "\n",
        "# Subtraction\n",
        "print('{} - {} = '.format(number_1, number_2))\n",
        "print(number_1 - number_2)\n",
        "\n",
        "# Multiplication\n",
        "print('{} * {} = '.format(number_1, number_2))\n",
        "print(number_1 * number_2)\n",
        "\n",
        "# Division\n",
        "print('{} / {} = '.format(number_1, number_2))\n",
        "print(number_1 / number_2)"
      ],
      "execution_count": 0,
      "outputs": [
        {
          "output_type": "stream",
          "text": [
            "Enter your first number:  1\n",
            "Enter your second number:  2\n"
          ],
          "name": "stdin"
        },
        {
          "output_type": "stream",
          "text": [
            "1 + 2 = \n",
            "3\n",
            "1 - 2 = \n",
            "-1\n",
            "1 * 2 = \n",
            "2\n",
            "1 / 2 = \n",
            "0.5\n"
          ],
          "name": "stdout"
        }
      ]
    },
    {
      "cell_type": "code",
      "metadata": {
        "id": "XGW5DD-FFhjZ",
        "colab_type": "code",
        "colab": {},
        "outputId": "df7fed31-0bae-42e8-e98b-426e2c468ec5"
      },
      "source": [
        "## we do not want the calculator to calculate all, let it calculate based on the user's choice of operation\n",
        "# 1st lets create ... such that calculator ask the user to input the operator he wants to use for calculation\n",
        "# 2nd let the program pick and print only that operation...here we will introduce if...statements\n",
        "\n",
        "operation = input('''\n",
        "Please type in the math operation you would like to complete:\n",
        "+ for addition\n",
        "- for subtraction\n",
        "* for multiplication\n",
        "/ for division\n",
        "''')\n",
        "\n",
        "number_1 = int(input('Enter your first number: '))\n",
        "number_2 = int(input('Enter your second number: '))\n",
        "\n",
        "if operation == '+':\n",
        "    print('{} + {} = '.format(number_1, number_2))\n",
        "    print(number_1 + number_2)\n",
        "\n",
        "elif operation == '-':\n",
        "    print('{} - {} = '.format(number_1, number_2))\n",
        "    print(number_1 - number_2)\n",
        "\n",
        "elif operation == '*':\n",
        "    print('{} * {} = '.format(number_1, number_2))\n",
        "    print(number_1 * number_2)\n",
        "\n",
        "elif operation == '/':\n",
        "    print('{} / {} = '.format(number_1, number_2))\n",
        "    print(number_1 / number_2)\n",
        "\n",
        "else:\n",
        "    print('You have not typed a valid operator, please run the program again.')"
      ],
      "execution_count": 0,
      "outputs": [
        {
          "output_type": "stream",
          "text": [
            "\n",
            "Please type in the math operation you would like to complete:\n",
            "+ for addition\n",
            "- for subtraction\n",
            "* for multiplication\n",
            "/ for division\n",
            " +\n",
            "Enter your first number:  3\n",
            "Enter your second number:  5\n"
          ],
          "name": "stdin"
        },
        {
          "output_type": "stream",
          "text": [
            "3 + 5 = \n",
            "8\n"
          ],
          "name": "stdout"
        }
      ]
    },
    {
      "cell_type": "code",
      "metadata": {
        "id": "md87sIVGFhjo",
        "colab_type": "code",
        "colab": {},
        "outputId": "403b7ba8-d5e0-4943-b00a-6009dd273c2c"
      },
      "source": [
        "# greetings to our user     \n",
        "def welcome():\n",
        "    print('''Welcome to Calculator...''')\n",
        "    \n",
        "# Define our function\n",
        "def calculate():\n",
        "    operation = input('''\n",
        "Please type in the math operation you would like to complete:\n",
        "+ for addition\n",
        "- for subtraction\n",
        "* for multiplication\n",
        "/ for division\n",
        "''')\n",
        "\n",
        "    number_1 = int(input('Please enter the first number: '))\n",
        "    number_2 = int(input('Please enter the second number: '))\n",
        "    if operation == '+':\n",
        "        print('{} + {} = '.format(number_1, number_2))\n",
        "        print(number_1 + number_2)\n",
        "\n",
        "    elif operation == '-':\n",
        "        print('{} - {} = '.format(number_1, number_2))\n",
        "        print(number_1 - number_2)\n",
        "\n",
        "    elif operation == '*':\n",
        "        print('{} * {} = '.format(number_1, number_2))\n",
        "        print(number_1 * number_2)\n",
        "\n",
        "    elif operation == '/':\n",
        "        print('{} / {} = '.format(number_1, number_2))\n",
        "        print(number_1 / number_2)\n",
        "\n",
        "    else:\n",
        "        print('You have not typed a valid operator, please run the program again.')\n",
        "    again()\n",
        "    \n",
        "# Define again() function to ask user if they want to use the calculator again\n",
        "def again():\n",
        "\n",
        "    # Take input from user\n",
        "    calc_again = input('''Do you want to calculate again? Please type Y for YES or N for NO....''')\n",
        "\n",
        "    # If user types Y, run the calculate() function\n",
        "    if calc_again.upper() == 'Y':\n",
        "        calculate()\n",
        "\n",
        "    # If user types N, say good-bye to the user and end the program\n",
        "    elif calc_again == 'N':\n",
        "        print('See you later.')\n",
        "\n",
        "    # If user types another key, run the function again\n",
        "    else:\n",
        "        again()\n",
        "        \n",
        "# Don’t forget to call the function\n",
        "welcome()\n",
        "calculate()        "
      ],
      "execution_count": 0,
      "outputs": [
        {
          "output_type": "stream",
          "text": [
            "Welcome to Calculator...\n"
          ],
          "name": "stdout"
        },
        {
          "output_type": "stream",
          "text": [
            "\n",
            "Please type in the math operation you would like to complete:\n",
            "+ for addition\n",
            "- for subtraction\n",
            "* for multiplication\n",
            "/ for division\n",
            " +\n",
            "Please enter the first number:  1\n",
            "Please enter the second number:  3\n"
          ],
          "name": "stdin"
        },
        {
          "output_type": "stream",
          "text": [
            "1 + 3 = \n",
            "4\n"
          ],
          "name": "stdout"
        },
        {
          "output_type": "stream",
          "text": [
            "Do you want to calculate again? Please type Y for YES or N for NO.... N\n"
          ],
          "name": "stdin"
        },
        {
          "output_type": "stream",
          "text": [
            "See you later.\n"
          ],
          "name": "stdout"
        }
      ]
    },
    {
      "cell_type": "markdown",
      "metadata": {
        "id": "iYvD0OdmFhjx",
        "colab_type": "text"
      },
      "source": [
        "#### GREAT JOB TEAM!!!!!"
      ]
    }
  ]
}